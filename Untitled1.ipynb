{
  "nbformat": 4,
  "nbformat_minor": 0,
  "metadata": {
    "colab": {
      "name": "Untitled1.ipynb",
      "provenance": [],
      "collapsed_sections": []
    },
    "kernelspec": {
      "name": "python3",
      "display_name": "Python 3"
    }
  },
  "cells": [
    {
      "cell_type": "code",
      "metadata": {
        "id": "YDBiKqiASEaG",
        "colab_type": "code",
        "outputId": "9f2db691-a75c-403a-9b2c-98466bbb940b",
        "colab": {
          "base_uri": "https://localhost:8080/",
          "height": 34
        }
      },
      "source": [
        "# task 1          q  1.1\n",
        "#great=0\n",
        "#a=[12,15,16,188,201]\n",
        "ls=[2,2,3,5,2,2]\n",
        "\n",
        "def aa(a,b):\n",
        "  a=a+b\n",
        "  return a\n",
        "\n",
        "\n",
        "great=0\n",
        "def myreduce(aa,ls):\n",
        "  for i in range(len(ls)-1):\n",
        "      if i==0:\n",
        "        items=ls[i]\n",
        "      pp=aa(items,ls[i+1])\n",
        "      items=pp\n",
        "  print(pp)\n",
        "myreduce(aa,ls) "
      ],
      "execution_count": 0,
      "outputs": [
        {
          "output_type": "stream",
          "text": [
            "16\n"
          ],
          "name": "stdout"
        }
      ]
    },
    {
      "cell_type": "code",
      "metadata": {
        "id": "PdPYyY-YjGy2",
        "colab_type": "code",
        "outputId": "4d561b3e-7dc0-4263-f287-dba56639490e",
        "colab": {
          "base_uri": "https://localhost:8080/",
          "height": 34
        }
      },
      "source": [
        "#task 1 \n",
        "ls=[1,2,3,4,-3,5,6,-1,-5]\n",
        "\n",
        "def pos(a):\n",
        "  if  a>0:\n",
        "    return True\n",
        "  else:\n",
        "    return False\n",
        "ee=[]\n",
        "def myfilter(meth,ls):\n",
        "  for i in ls:\n",
        "    pp=meth(i)\n",
        "    if pp==True:\n",
        "      ee.append(i)\n",
        "  return ee\n",
        "myfilter(pos,ls)"
      ],
      "execution_count": 0,
      "outputs": [
        {
          "output_type": "execute_result",
          "data": {
            "text/plain": [
              "[1, 2, 3, 4, 5, 6]"
            ]
          },
          "metadata": {
            "tags": []
          },
          "execution_count": 136
        }
      ]
    },
    {
      "cell_type": "code",
      "metadata": {
        "id": "q2b13LFUSkyU",
        "colab_type": "code",
        "outputId": "c9b632c9-2071-4fd9-d6e0-9803952bbd29",
        "colab": {
          "base_uri": "https://localhost:8080/",
          "height": 34
        }
      },
      "source": [
        "from functools import reduce\n",
        "a=[1,2,3,4,56,6]\n",
        "#b=[22,2,2]\n",
        "\n",
        "lst=lambda a,b: a if a>b else b\n",
        "reduce(lst,a)\n"
      ],
      "execution_count": 0,
      "outputs": [
        {
          "output_type": "execute_result",
          "data": {
            "text/plain": [
              "56"
            ]
          },
          "metadata": {
            "tags": []
          },
          "execution_count": 36
        }
      ]
    },
    {
      "cell_type": "code",
      "metadata": {
        "id": "-Hm1kgxuVmCj",
        "colab_type": "code",
        "outputId": "ee7e3dfc-7a1d-44c4-c8f1-d4aca28faa33",
        "colab": {
          "base_uri": "https://localhost:8080/",
          "height": 34
        }
      },
      "source": [
        "# task 1  q2\n",
        "a=\"ACADGILD\"\n",
        "ls=[a[i] for i in range(len(a))]\n",
        "ls"
      ],
      "execution_count": 0,
      "outputs": [
        {
          "output_type": "execute_result",
          "data": {
            "text/plain": [
              "['A', 'C', 'A', 'D', 'G', 'I', 'L', 'D']"
            ]
          },
          "metadata": {
            "tags": []
          },
          "execution_count": 58
        }
      ]
    },
    {
      "cell_type": "code",
      "metadata": {
        "id": "98LfARVAZEG5",
        "colab_type": "code",
        "outputId": "d49a2d45-bf05-4d00-b3bf-88c75b2f75ef",
        "colab": {
          "base_uri": "https://localhost:8080/",
          "height": 34
        }
      },
      "source": [
        "ls"
      ],
      "execution_count": 0,
      "outputs": [
        {
          "output_type": "execute_result",
          "data": {
            "text/plain": [
              "['A', 'C', 'A', 'D', 'G', 'I', 'L', 'D']"
            ]
          },
          "metadata": {
            "tags": []
          },
          "execution_count": 36
        }
      ]
    },
    {
      "cell_type": "code",
      "metadata": {
        "id": "I9uO8tieZFAH",
        "colab_type": "code",
        "outputId": "02a24e2e-a4b8-4d2d-cb2a-435c09ade473",
        "colab": {
          "base_uri": "https://localhost:8080/",
          "height": 34
        }
      },
      "source": [
        "ls=[a*i for a in [\"x\",\"y\",\"z\"] for i in range(1,5)]\n",
        "ls"
      ],
      "execution_count": 0,
      "outputs": [
        {
          "output_type": "execute_result",
          "data": {
            "text/plain": [
              "['x', 'xx', 'xxx', 'xxxx', 'y', 'yy', 'yyy', 'yyyy', 'z', 'zz', 'zzz', 'zzzz']"
            ]
          },
          "metadata": {
            "tags": []
          },
          "execution_count": 71
        }
      ]
    },
    {
      "cell_type": "code",
      "metadata": {
        "id": "tWrOoIsib6UE",
        "colab_type": "code",
        "outputId": "3e960e60-7438-407e-f5e6-c8e580f106ba",
        "colab": {
          "base_uri": "https://localhost:8080/",
          "height": 34
        }
      },
      "source": [
        "ls=[ a*i for i in range(1,5) for a in [\"x\",\"y\",\"z\"]]\n",
        "ls"
      ],
      "execution_count": 0,
      "outputs": [
        {
          "output_type": "execute_result",
          "data": {
            "text/plain": [
              "['x', 'y', 'z', 'xx', 'yy', 'zz', 'xxx', 'yyy', 'zzz', 'xxxx', 'yyyy', 'zzzz']"
            ]
          },
          "metadata": {
            "tags": []
          },
          "execution_count": 73
        }
      ]
    },
    {
      "cell_type": "code",
      "metadata": {
        "id": "5NLkQziPgQgR",
        "colab_type": "code",
        "outputId": "a7462484-47c0-4c19-fe89-44155754e368",
        "colab": {
          "base_uri": "https://localhost:8080/",
          "height": 34
        }
      },
      "source": [
        "[[i+a]for i in range(3) for a in range(2,5)]"
      ],
      "execution_count": 0,
      "outputs": [
        {
          "output_type": "execute_result",
          "data": {
            "text/plain": [
              "[[2], [3], [4], [3], [4], [5], [4], [5], [6]]"
            ]
          },
          "metadata": {
            "tags": []
          },
          "execution_count": 78
        }
      ]
    },
    {
      "cell_type": "code",
      "metadata": {
        "id": "4RMUKSewgfpi",
        "colab_type": "code",
        "outputId": "b5d78bf2-fabe-4aed-fc89-4efadf861879",
        "colab": {
          "base_uri": "https://localhost:8080/",
          "height": 34
        }
      },
      "source": [
        "ls=[[i+a for i in range(4)] for a in range(2,6)]\n",
        "ls"
      ],
      "execution_count": 0,
      "outputs": [
        {
          "output_type": "execute_result",
          "data": {
            "text/plain": [
              "[[2, 3, 4, 5], [3, 4, 5, 6], [4, 5, 6, 7], [5, 6, 7, 8]]"
            ]
          },
          "metadata": {
            "tags": []
          },
          "execution_count": 110
        }
      ]
    },
    {
      "cell_type": "code",
      "metadata": {
        "id": "POpfxMe1hp-Z",
        "colab_type": "code",
        "outputId": "6f376f21-9813-46ad-8de5-6f5a9c8d94ec",
        "colab": {
          "base_uri": "https://localhost:8080/",
          "height": 34
        }
      },
      "source": [
        "[(a+1,i) for i in range(1,4) for a in range(3)]"
      ],
      "execution_count": 0,
      "outputs": [
        {
          "output_type": "execute_result",
          "data": {
            "text/plain": [
              "[(1, 1), (2, 1), (3, 1), (1, 2), (2, 2), (3, 2), (1, 3), (2, 3), (3, 3)]"
            ]
          },
          "metadata": {
            "tags": []
          },
          "execution_count": 117
        }
      ]
    },
    {
      "cell_type": "code",
      "metadata": {
        "id": "dWfcAe-Qm21x",
        "colab_type": "code",
        "colab": {}
      },
      "source": [
        "#task 2 q1  \n",
        "class take_input():\n",
        "  def __init__(self,a,b,c,s):\n",
        "    self.a=int(input(\"please enter the length a \"))\n",
        "    self.b=int(input(\"please eneter the length b \"))\n",
        "    self.c=int(input(\"plaese enter  the length c \"))\n",
        "    self.s=int(input(\"please enter the length s \"))\n",
        "class area(take_input):\n",
        "  def __init__(self,*args):\n",
        "    super(area,self).__init__(*args)\n",
        "    self.area_of_traingle=(self.s*(self.s-self.a)*(self.s-self.b)*(self.s-self.c))**0.5\n",
        "    print(self.area_of_traingle)\n"
      ],
      "execution_count": 0,
      "outputs": []
    },
    {
      "cell_type": "code",
      "metadata": {
        "id": "53uqhhycXuhG",
        "colab_type": "code",
        "outputId": "d0d6ed1f-a11e-45e2-d6ee-2fc5978eed06",
        "colab": {
          "base_uri": "https://localhost:8080/",
          "height": 119
        }
      },
      "source": [
        "area(1,2,3,5)"
      ],
      "execution_count": 0,
      "outputs": [
        {
          "output_type": "stream",
          "text": [
            "please enter the length a 4\n",
            "please eneter the length b 3\n",
            "plaese enter  the length c 2\n",
            "please enter the length s 6\n",
            "12.0\n"
          ],
          "name": "stdout"
        },
        {
          "output_type": "execute_result",
          "data": {
            "text/plain": [
              "<__main__.area at 0x7f890ac02128>"
            ]
          },
          "metadata": {
            "tags": []
          },
          "execution_count": 24
        }
      ]
    },
    {
      "cell_type": "code",
      "metadata": {
        "id": "2_okbKVtlr9e",
        "colab_type": "code",
        "outputId": "e255f58f-1998-4b1b-a5c8-28de4ec58047",
        "colab": {
          "base_uri": "https://localhost:8080/",
          "height": 34
        }
      },
      "source": [
        "# task 2 q1.2\n",
        "def longestword(se):\n",
        "\n",
        "  se=se.split()\n",
        "  #print(se)\n",
        "  le=[]\n",
        "  for i in se:\n",
        "    le.append(len(i))\n",
        "  le.sort()\n",
        "  lt=le[-1]\n",
        "  for a in se:\n",
        "    if len(a)==lt:\n",
        "      print(a)\n",
        "se=\"deep learning is   a subset of NN fggggggggg\"\n",
        "longestword(se)"
      ],
      "execution_count": 0,
      "outputs": [
        {
          "output_type": "stream",
          "text": [
            "fggggggggg\n"
          ],
          "name": "stdout"
        }
      ]
    },
    {
      "cell_type": "code",
      "metadata": {
        "id": "BG41O28EYZkw",
        "colab_type": "code",
        "outputId": "b4a46beb-4459-465c-e8eb-6230e8311e56",
        "colab": {
          "base_uri": "https://localhost:8080/",
          "height": 34
        }
      },
      "source": [
        "#task 2 q 2.2\n",
        "def words(word):\n",
        "  return len(word)\n",
        "lists=[\"ab\",\"cde\",\"erty\"]\n",
        "list(map(words,lists))"
      ],
      "execution_count": 0,
      "outputs": [
        {
          "output_type": "execute_result",
          "data": {
            "text/plain": [
              "[2, 3, 4]"
            ]
          },
          "metadata": {
            "tags": []
          },
          "execution_count": 27
        }
      ]
    },
    {
      "cell_type": "code",
      "metadata": {
        "id": "bCB6yxsIa5ZN",
        "colab_type": "code",
        "outputId": "9ef49010-24eb-4431-a536-8b3666662d10",
        "colab": {
          "base_uri": "https://localhost:8080/",
          "height": 34
        }
      },
      "source": [
        "#task 2 q 2.2\n",
        "def vo(st):\n",
        "  st=st.lower()\n",
        "  if st in vowels:\n",
        "    return True\n",
        "  else:\n",
        "    return False\n",
        "vowels=[\"a\",\"e\",\"i\",\"o\",\"u\"]\n",
        "vo(\"A\")"
      ],
      "execution_count": 0,
      "outputs": [
        {
          "output_type": "execute_result",
          "data": {
            "text/plain": [
              "True"
            ]
          },
          "metadata": {
            "tags": []
          },
          "execution_count": 38
        }
      ]
    },
    {
      "cell_type": "code",
      "metadata": {
        "id": "iFxv2vKgdXH7",
        "colab_type": "code",
        "colab": {}
      },
      "source": [
        ""
      ],
      "execution_count": 0,
      "outputs": []
    }
  ]
}