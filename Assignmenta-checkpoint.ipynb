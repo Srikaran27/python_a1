{
 "cells": [
  {
   "cell_type": "code",
   "execution_count": 1,
   "metadata": {},
   "outputs": [
    {
     "data": {
      "text/plain": [
       "2"
      ]
     },
     "execution_count": 1,
     "metadata": {},
     "output_type": "execute_result"
    }
   ],
   "source": [
    "1+1"
   ]
  },
  {
   "cell_type": "code",
   "execution_count": 18,
   "metadata": {},
   "outputs": [
    {
     "name": "stdout",
     "output_type": "stream",
     "text": [
      "2002,2009,2016,2023,2037,2044,2051,2058,2072,2079,2086,2093,2107,2114,2121,2128,2142,2149,2156,2163,2177,2184,2191,2198,2212,2219,2226,2233,2247,2254,2261,2268,2282,2289,2296,2303,2317,2324,2331,2338,2352,2359,2366,2373,2387,2394,2401,2408,2422,2429,2436,2443,2457,2464,2471,2478,2492,2499,2506,2513,2527,2534,2541,2548,2562,2569,2576,2583,2597,2604,2611,2618,2632,2639,2646,2653,2667,2674,2681,2688,2702,2709,2716,2723,2737,2744,2751,2758,2772,2779,2786,2793,2807,2814,2821,2828,2842,2849,2856,2863,2877,2884,2891,2898,2912,2919,2926,2933,2947,2954,2961,2968,2982,2989,2996,3003,3017,3024,3031,3038,3052,3059,3066,3073,3087,3094,3101,3108,3122,3129,3136,3143,3157,3164,3171,3178,3192,3199,"
     ]
    }
   ],
   "source": [
    "a=2000\n",
    "b=3200\n",
    "for c in range(a,b+1):\n",
    "    if c%7==0 and c%5!=0:\n",
    "        print(c,end=\",\")\n",
    "        "
   ]
  },
  {
   "cell_type": "code",
   "execution_count": 2,
   "metadata": {},
   "outputs": [
    {
     "name": "stdout",
     "output_type": "stream",
     "text": [
      "Please enter your first_name Sri\n",
      "Please enter your last_name thinge\n",
      "irS egniht\n"
     ]
    }
   ],
   "source": [
    "first_name=str(input(\"Please enter your first_name \"))\n",
    "last_name=str(input(\"Please enter your last_name \"))\n",
    "first_name_r=first_name[::-1]\n",
    "last_name_r=last_name[::-1]\n",
    "print(first_name_r+\" \"+last_name_r)"
   ]
  },
  {
   "cell_type": "code",
   "execution_count": 31,
   "metadata": {},
   "outputs": [
    {
     "name": "stdout",
     "output_type": "stream",
     "text": [
      "the area  3619.114736935441\n"
     ]
    }
   ],
   "source": [
    "diameter=12\n",
    "import math\n",
    "Ar=4/3*math.pi*diameter**3/2\n",
    "print(\"the area \",Ar)"
   ]
  },
  {
   "cell_type": "code",
   "execution_count": 36,
   "metadata": {},
   "outputs": [
    {
     "name": "stdout",
     "output_type": "stream",
     "text": [
      "please the numbers 2,2,22\n",
      "['2,2,22']\n"
     ]
    }
   ],
   "source": [
    "numbers=str(input(\"please the numbers \"))\n",
    "print([numbers])  "
   ]
  },
  {
   "cell_type": "code",
   "execution_count": 99,
   "metadata": {},
   "outputs": [
    {
     "name": "stdout",
     "output_type": "stream",
     "text": [
      " \n",
      "*  \n",
      "* *  \n",
      "* * *  \n",
      "* * * *  \n",
      "* * * * *  \n",
      "* * * *  \n",
      "* * *  \n",
      "* *  \n",
      "* "
     ]
    }
   ],
   "source": [
    "m=4\n",
    "for i in range(1,10):\n",
    "    print(\" \")\n",
    "    if i<6:\n",
    "        for j in range(0,i):\n",
    "            print(\"*\",end=\" \")\n",
    "    elif i>=6:\n",
    "        for a in range(m):\n",
    "\n",
    "            print(\"*\",end=\" \")\n",
    "            \n",
    "        m=m-1\n",
    "            \n",
    "    \n",
    "        "
   ]
  },
  {
   "cell_type": "code",
   "execution_count": 3,
   "metadata": {},
   "outputs": [
    {
     "name": "stdout",
     "output_type": "stream",
     "text": [
      "please enter  word  vshc\n",
      "chsv"
     ]
    }
   ],
   "source": [
    "w=\"\"\n",
    "word=str(input(\"please enter  word  \"))\n",
    "a=len(word)+1\n",
    "if word is not None:\n",
    "    for i in range(1,a):\n",
    "        #i=-1*i\n",
    "        #print(i)\n",
    "        w=w+word[-i]\n",
    "    a=a-1    \n",
    "    print(w,end=\"\")\n",
    "        "
   ]
  },
  {
   "cell_type": "code",
   "execution_count": null,
   "metadata": {},
   "outputs": [],
   "source": []
  },
  {
   "cell_type": "code",
   "execution_count": null,
   "metadata": {},
   "outputs": [],
   "source": []
  }
 ],
 "metadata": {
  "kernelspec": {
   "display_name": "Python 3",
   "language": "python",
   "name": "python3"
  },
  "language_info": {
   "codemirror_mode": {
    "name": "ipython",
    "version": 3
   },
   "file_extension": ".py",
   "mimetype": "text/x-python",
   "name": "python",
   "nbconvert_exporter": "python",
   "pygments_lexer": "ipython3",
   "version": "3.7.1"
  }
 },
 "nbformat": 4,
 "nbformat_minor": 2
}
