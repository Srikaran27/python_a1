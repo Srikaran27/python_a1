{
  "nbformat": 4,
  "nbformat_minor": 0,
  "metadata": {
    "colab": {
      "name": "asient3.ipynb",
      "provenance": [],
      "collapsed_sections": []
    },
    "kernelspec": {
      "name": "python3",
      "display_name": "Python 3"
    }
  },
  "cells": [
    {
      "cell_type": "code",
      "metadata": {
        "id": "tszGGRtcbtKu",
        "colab_type": "code",
        "outputId": "a69e4bd5-3c92-44ed-9849-70ac9ed2a37b",
        "colab": {
          "base_uri": "https://localhost:8080/",
          "height": 34
        }
      },
      "source": [
        "# task 1 q1\n",
        "try:\n",
        "  a=5/0\n",
        "except ZeroDivisionError:\n",
        "  print(\"this isnt valid\")\n"
      ],
      "execution_count": 1,
      "outputs": [
        {
          "output_type": "stream",
          "text": [
            "this isnt valid\n"
          ],
          "name": "stdout"
        }
      ]
    },
    {
      "cell_type": "code",
      "metadata": {
        "id": "RTSBAzkXcOv2",
        "colab_type": "code",
        "outputId": "6c21d247-683d-498b-f0e3-a83cd3f3ed6a",
        "colab": {
          "base_uri": "https://localhost:8080/",
          "height": 153
        }
      },
      "source": [
        "#task 2 q1 \n",
        "subjects=[\"American\",\"Indians\"]\n",
        "verbs=[\"play\",\"watch\"]\n",
        "objects=[\"Basebal\",\"cricket\"]\n",
        "\n",
        "for i in range(0,len(subjects)):\n",
        "  for  a in verbs:\n",
        "    for b in objects:\n",
        "      print(subjects[i]+\" \"+a+\" \"+b)"
      ],
      "execution_count": 0,
      "outputs": [
        {
          "output_type": "stream",
          "text": [
            "American play Basebal\n",
            "American play cricket\n",
            "American watch Basebal\n",
            "American watch cricket\n",
            "Indians play Basebal\n",
            "Indians play cricket\n",
            "Indians watch Basebal\n",
            "Indians watch cricket\n"
          ],
          "name": "stdout"
        }
      ]
    },
    {
      "cell_type": "code",
      "metadata": {
        "id": "QMbYgdLRf_3d",
        "colab_type": "code",
        "outputId": "5a94afd3-7d3f-4974-c27c-a33c566b9557",
        "colab": {
          "base_uri": "https://localhost:8080/",
          "height": 122
        }
      },
      "source": [
        "#task 2 q2 \n",
        "import numpy as np\n",
        "x=np.array([1,2,3])\n",
        "N=3\n",
        "\n",
        "[np.column_stack(x**(N-1-i) for i in range(3))]\n"
      ],
      "execution_count": 9,
      "outputs": [
        {
          "output_type": "stream",
          "text": [
            "/usr/local/lib/python3.6/dist-packages/ipykernel_launcher.py:5: FutureWarning: arrays to stack must be passed as a \"sequence\" type such as list or tuple. Support for non-sequence iterables such as generators is deprecated as of NumPy 1.16 and will raise an error in the future.\n",
            "  \"\"\"\n"
          ],
          "name": "stderr"
        },
        {
          "output_type": "execute_result",
          "data": {
            "text/plain": [
              "[array([[1, 1, 1],\n",
              "        [4, 2, 1],\n",
              "        [9, 3, 1]])]"
            ]
          },
          "metadata": {
            "tags": []
          },
          "execution_count": 9
        }
      ]
    },
    {
      "cell_type": "code",
      "metadata": {
        "id": "rSR_udyKikcv",
        "colab_type": "code",
        "colab": {}
      },
      "source": [
        ""
      ],
      "execution_count": 0,
      "outputs": []
    }
  ]
}