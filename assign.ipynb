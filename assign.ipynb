{
  "nbformat": 4,
  "nbformat_minor": 0,
  "metadata": {
    "colab": {
      "name": "assign1",
      "provenance": [],
      "collapsed_sections": []
    },
    "kernelspec": {
      "name": "python3",
      "display_name": "Python 3"
    }
  },
  "cells": [
    {
      "cell_type": "code",
      "metadata": {
        "id": "zPMJTPHTZ6mj",
        "colab_type": "code",
        "outputId": "e62a0f96-dbda-4e96-a6ab-2a7fc5d4e89e",
        "colab": {
          "base_uri": "https://localhost:8080/",
          "height": 34
        }
      },
      "source": [
        "#task 1 question 1\n",
        "print(\"hi \")"
      ],
      "execution_count": 0,
      "outputs": [
        {
          "output_type": "stream",
          "text": [
            "hi \n"
          ],
          "name": "stdout"
        }
      ]
    },
    {
      "cell_type": "code",
      "metadata": {
        "id": "oPMs8rRTaBzU",
        "colab_type": "code",
        "outputId": "29f48282-1528-4473-9840-0be54c7f589b",
        "colab": {
          "base_uri": "https://localhost:8080/",
          "height": 54
        }
      },
      "source": [
        "#task 1 question 2\n",
        "num=2000\n",
        "num1=3200\n",
        "for i in range(2000,3200+1):\n",
        "  if i%7==0 and i%5!=0:\n",
        "    print(i,end=\",\")\n"
      ],
      "execution_count": 0,
      "outputs": [
        {
          "output_type": "stream",
          "text": [
            "2002,2009,2016,2023,2037,2044,2051,2058,2072,2079,2086,2093,2107,2114,2121,2128,2142,2149,2156,2163,2177,2184,2191,2198,2212,2219,2226,2233,2247,2254,2261,2268,2282,2289,2296,2303,2317,2324,2331,2338,2352,2359,2366,2373,2387,2394,2401,2408,2422,2429,2436,2443,2457,2464,2471,2478,2492,2499,2506,2513,2527,2534,2541,2548,2562,2569,2576,2583,2597,2604,2611,2618,2632,2639,2646,2653,2667,2674,2681,2688,2702,2709,2716,2723,2737,2744,2751,2758,2772,2779,2786,2793,2807,2814,2821,2828,2842,2849,2856,2863,2877,2884,2891,2898,2912,2919,2926,2933,2947,2954,2961,2968,2982,2989,2996,3003,3017,3024,3031,3038,3052,3059,3066,3073,3087,3094,3101,3108,3122,3129,3136,3143,3157,3164,3171,3178,3192,3199,"
          ],
          "name": "stdout"
        }
      ]
    },
    {
      "cell_type": "code",
      "metadata": {
        "id": "UUI__lUVavfU",
        "colab_type": "code",
        "outputId": "6be744d9-8c41-4aba-94e5-ba075e2050c0",
        "colab": {
          "base_uri": "https://localhost:8080/",
          "height": 68
        }
      },
      "source": [
        "#task 1 question 3\n",
        "first_nam=str(input(\"please enter your first name \"))\n",
        "last_nam=str(input(\"please entrer your last name \"))\n",
        "print(first_nam[::-1]+\" \"+last_nam[::-1])\n"
      ],
      "execution_count": 0,
      "outputs": [
        {
          "output_type": "stream",
          "text": [
            "please enter your first name james\n",
            "please entrer your last name bond\n",
            "semaj dnob\n"
          ],
          "name": "stdout"
        }
      ]
    },
    {
      "cell_type": "code",
      "metadata": {
        "id": "YylBW_23balb",
        "colab_type": "code",
        "outputId": "d174dc2e-3970-4957-c128-03185dd731f2",
        "colab": {
          "base_uri": "https://localhost:8080/",
          "height": 34
        }
      },
      "source": [
        "#task 1 question  4\n",
        "import math\n",
        "dia=12\n",
        "area=4/3*(math.pi*dia**3)/2\n",
        "print(area)\n"
      ],
      "execution_count": 0,
      "outputs": [
        {
          "output_type": "stream",
          "text": [
            "3619.114736935441\n"
          ],
          "name": "stdout"
        }
      ]
    },
    {
      "cell_type": "code",
      "metadata": {
        "id": "pezc5Fl7cbiG",
        "colab_type": "code",
        "outputId": "17172e40-96b5-4715-dfa8-e58b9655972d",
        "colab": {
          "base_uri": "https://localhost:8080/",
          "height": 68
        }
      },
      "source": [
        "# task 2 question 1\n",
        "ser=str(input(\"please enter the following series\"))\n",
        "print([ser])\n"
      ],
      "execution_count": 0,
      "outputs": [
        {
          "output_type": "stream",
          "text": [
            "please enter the following series1,1,11\n",
            "['1,1,11']\n"
          ],
          "name": "stdout"
        },
        {
          "output_type": "execute_result",
          "data": {
            "text/plain": [
              "list"
            ]
          },
          "metadata": {
            "tags": []
          },
          "execution_count": 19
        }
      ]
    },
    {
      "cell_type": "code",
      "metadata": {
        "id": "7dm1ufXKdNpb",
        "colab_type": "code",
        "outputId": "5df60ebb-813b-4ce7-ae29-09655e494409",
        "colab": {
          "base_uri": "https://localhost:8080/",
          "height": 204
        }
      },
      "source": [
        "# task 2 question 2\n",
        "numss=4\n",
        "for i in range(1,11):\n",
        "  print(\"\")\n",
        "  if i<=6:\n",
        "    #print(i)\n",
        "    for num in range(1,i):\n",
        "      print(\"*\",end=\" \")\n",
        "  if i>6:\n",
        "    for m in range(0,numss):\n",
        "     print(\"*\",end=\" \")\n",
        "    numss=numss-1  "
      ],
      "execution_count": 0,
      "outputs": [
        {
          "output_type": "stream",
          "text": [
            "\n",
            "\n",
            "* \n",
            "* * \n",
            "* * * \n",
            "* * * * \n",
            "* * * * * \n",
            "* * * * \n",
            "* * * \n",
            "* * \n",
            "* "
          ],
          "name": "stdout"
        }
      ]
    },
    {
      "cell_type": "code",
      "metadata": {
        "id": "PaRLhUYaesQy",
        "colab_type": "code",
        "outputId": "be54238f-b4b7-4edc-f2a7-afe651ac83f5",
        "colab": {
          "base_uri": "https://localhost:8080/",
          "height": 34
        }
      },
      "source": [
        "#task 2 question 3\n",
        "setenc=\"AcdGild\"\n",
        "print(setenc[::-1])"
      ],
      "execution_count": 0,
      "outputs": [
        {
          "output_type": "stream",
          "text": [
            "dliGdcA\n"
          ],
          "name": "stdout"
        }
      ]
    },
    {
      "cell_type": "code",
      "metadata": {
        "id": "-hZ4YYGjhNlv",
        "colab_type": "code",
        "outputId": "c5ca5396-31d4-43a0-c395-f251e326ba7b",
        "colab": {
          "base_uri": "https://localhost:8080/",
          "height": 85
        }
      },
      "source": [
        "sentenc=\"WE, THE PEOPLE OF INDIA, having solemnly resolved to constitute India into a SOVERIGN,SOCIALIST,SECULAR,DEMCRATIC REPUBLIC and to secure all its citizens\"\n",
        "print(\"WE, THE PEOPLE OF INDIA,\\n\\t having solemnly resolved to constitute India into a SOVERIGN,\\n\\t\\tSOCIALIST,SECULAR,DEMCRATIC REPUBLIC\\n\\t\\t\\tand to secure all its citizens\")"
      ],
      "execution_count": 0,
      "outputs": [
        {
          "output_type": "stream",
          "text": [
            "WE, THE PEOPLE OF INDIA,\n",
            "\t having solemnly resolved to constitute India into a SOVERIGN,\n",
            "\t\tSOCIALIST,SECULAR,DEMCRATIC REPUBLIC\n",
            "\t\t\tand to secure all its citizens\n"
          ],
          "name": "stdout"
        }
      ]
    },
    {
      "cell_type": "code",
      "metadata": {
        "id": "uwLk-0kSpAK7",
        "colab_type": "code",
        "colab": {}
      },
      "source": [
        ""
      ],
      "execution_count": 0,
      "outputs": []
    }
  ]
}